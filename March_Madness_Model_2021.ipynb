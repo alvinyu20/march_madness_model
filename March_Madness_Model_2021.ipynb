{
 "cells": [
  {
   "cell_type": "markdown",
   "metadata": {},
   "source": [
    "# March Madness Model\n",
    "\n",
    "Hello! Welcome to my first ever Machine Learning Project\n",
    "\n",
    "March Madness is definitely the most exciting sporting event in the USA. A single elimination tournament provides a tense atmosphere for not only the players, but for the viewers as well. I have been creating brackets and competing in competitions with friends for about 12 years, usually just doing manual research through blogs and data sites like Kenpom and Barttorvik. \n",
    "\n",
    "This year, I will attempt to build my bracket using ML techniques that I have learned over the course of the past few months.\n",
    "\n",
    "My goal in this model is two answer these two main questions  \n",
    "1. Which teams will have the best chance of winning the tournament?  \n",
    "2. Which teams, even if not winning the tournament, have the best chance of outperforming their expectation?\n",
    "\n",
    "![display image](https://miro.medium.com/max/480/0*HUFnxDOqxPr1RsNy)\n",
    "\n",
    "### Datasets\n",
    "\n",
    "Data used in this analysis was uploaded by kaggle user andrewsundberg and contains CBB data from years 2015-2020  \n",
    "https://www.kaggle.com/andrewsundberg/college-basketball-dataset?select=cbb.csv"
   ]
  },
  {
   "cell_type": "code",
   "execution_count": 153,
   "metadata": {},
   "outputs": [],
   "source": [
    "import pandas as pd\n",
    "import numpy as np\n",
    "import seaborn as sns\n",
    "from matplotlib import pyplot as plt\n",
    "from sklearn.linear_model import LinearRegression\n",
    "from sklearn.linear_model import Lasso\n",
    "from sklearn.linear_model import Ridge\n",
    "from sklearn.model_selection import train_test_split\n",
    "from sklearn.model_selection import learning_curve\n",
    "from sklearn.model_selection import validation_curve\n",
    "from sklearn.model_selection import cross_val_score\n",
    "from sklearn.model_selection import KFold\n",
    "from sklearn.metrics import mean_squared_error"
   ]
  },
  {
   "cell_type": "code",
   "execution_count": 154,
   "metadata": {},
   "outputs": [],
   "source": [
    "cbb = pd.read_csv('cbb.csv')\n",
    "seed_history = pd.read_csv('MNCAAOverallSeeds.csv')\n",
    "team_ids = pd.read_csv('MDataFiles_Stage1/MTeamSpellings.csv')"
   ]
  },
  {
   "cell_type": "code",
   "execution_count": 155,
   "metadata": {},
   "outputs": [],
   "source": [
    "cbb['TEAM'] = cbb['TEAM'].str.lower()"
   ]
  },
  {
   "cell_type": "code",
   "execution_count": 156,
   "metadata": {},
   "outputs": [],
   "source": [
    "data = pd.merge(cbb, team_ids, left_on='TEAM', right_on='TeamNameSpelling', how='left')\n",
    "data = pd.merge(data, seed_history, left_on=['TeamID','YEAR'], right_on=['TeamID','Season'], how='left')"
   ]
  },
  {
   "cell_type": "markdown",
   "metadata": {},
   "source": [
    "## Data Introduction\n",
    "\n",
    "### Model Goal\n",
    "\n",
    "From the data shown above, we have a lot of different metrics to attempt to calculate team performance. I envision that this the dataset can produce two different metrics to help with bracket predictions  \n",
    "\n",
    "1. Overall Winner  \n",
    "This is the main metric that this project will try to predict. The selection that is worth 50% of all potential points in the ESPN Bracket Challenge, where you will likely not win your bracket unless you select the champion correctly.  \n",
    "  \n",
    "  \n",
    "2. Sleeper Teams  \n",
    "Teams that probably will not be good enough to win the championship, but are predicted to outperform average performance based on seed. Identifying these teams can give you the extra point boost that can be the difference maker between you and others than predict the same champion\n",
    "\n",
    "### Choosing a Model\n",
    "\n",
    "**Input**  \n",
    "Our data provides us with various team metrics and their past March Madness performance. This will be a **supervised algorithm**\n",
    "\n",
    "**Output**  \n",
    "We will be first training to predict an overall winner, using a modified version of the POSTSEASON column to do so. Although POSTSEASON is present as a categorical dataset, it is determined by the number of wins/round that a team achieves in a tournament. This means our output is a **quantitative discrete** output\n",
    "\n",
    "However, it may be simpler to model with a continuous data output. We are not looking to classify each team as \"Sweet 16\" or a \"Runner-up\", we are just trying to find which teams have a best chance of winning the championship based off of past data. Because of this, it is okay for the output to be continuous.\n",
    "\n",
    "Overall, my first choice at an algorithm is the simple **Linear Regression**"
   ]
  },
  {
   "cell_type": "code",
   "execution_count": 157,
   "metadata": {},
   "outputs": [
    {
     "data": {
      "text/html": [
       "<div>\n",
       "<style scoped>\n",
       "    .dataframe tbody tr th:only-of-type {\n",
       "        vertical-align: middle;\n",
       "    }\n",
       "\n",
       "    .dataframe tbody tr th {\n",
       "        vertical-align: top;\n",
       "    }\n",
       "\n",
       "    .dataframe thead th {\n",
       "        text-align: right;\n",
       "    }\n",
       "</style>\n",
       "<table border=\"1\" class=\"dataframe\">\n",
       "  <thead>\n",
       "    <tr style=\"text-align: right;\">\n",
       "      <th></th>\n",
       "      <th>TEAM</th>\n",
       "      <th>CONF</th>\n",
       "      <th>G</th>\n",
       "      <th>W</th>\n",
       "      <th>ADJOE</th>\n",
       "      <th>ADJDE</th>\n",
       "      <th>BARTHAG</th>\n",
       "      <th>EFG_O</th>\n",
       "      <th>EFG_D</th>\n",
       "      <th>TOR</th>\n",
       "      <th>...</th>\n",
       "      <th>3P_D</th>\n",
       "      <th>ADJ_T</th>\n",
       "      <th>WAB</th>\n",
       "      <th>POSTSEASON</th>\n",
       "      <th>SEED</th>\n",
       "      <th>YEAR</th>\n",
       "      <th>TeamNameSpelling</th>\n",
       "      <th>TeamID</th>\n",
       "      <th>Season</th>\n",
       "      <th>OverallSeed</th>\n",
       "    </tr>\n",
       "  </thead>\n",
       "  <tbody>\n",
       "    <tr>\n",
       "      <th>0</th>\n",
       "      <td>north carolina</td>\n",
       "      <td>ACC</td>\n",
       "      <td>40</td>\n",
       "      <td>33</td>\n",
       "      <td>123.3</td>\n",
       "      <td>94.9</td>\n",
       "      <td>0.9531</td>\n",
       "      <td>52.6</td>\n",
       "      <td>48.1</td>\n",
       "      <td>15.4</td>\n",
       "      <td>...</td>\n",
       "      <td>36.2</td>\n",
       "      <td>71.7</td>\n",
       "      <td>8.6</td>\n",
       "      <td>2ND</td>\n",
       "      <td>1.0</td>\n",
       "      <td>2016</td>\n",
       "      <td>north carolina</td>\n",
       "      <td>1314.0</td>\n",
       "      <td>2016.0</td>\n",
       "      <td>2.0</td>\n",
       "    </tr>\n",
       "    <tr>\n",
       "      <th>1</th>\n",
       "      <td>wisconsin</td>\n",
       "      <td>B10</td>\n",
       "      <td>40</td>\n",
       "      <td>36</td>\n",
       "      <td>129.1</td>\n",
       "      <td>93.6</td>\n",
       "      <td>0.9758</td>\n",
       "      <td>54.8</td>\n",
       "      <td>47.7</td>\n",
       "      <td>12.4</td>\n",
       "      <td>...</td>\n",
       "      <td>37.5</td>\n",
       "      <td>59.3</td>\n",
       "      <td>11.3</td>\n",
       "      <td>2ND</td>\n",
       "      <td>1.0</td>\n",
       "      <td>2015</td>\n",
       "      <td>wisconsin</td>\n",
       "      <td>1458.0</td>\n",
       "      <td>2015.0</td>\n",
       "      <td>4.0</td>\n",
       "    </tr>\n",
       "    <tr>\n",
       "      <th>2</th>\n",
       "      <td>michigan</td>\n",
       "      <td>B10</td>\n",
       "      <td>40</td>\n",
       "      <td>33</td>\n",
       "      <td>114.4</td>\n",
       "      <td>90.4</td>\n",
       "      <td>0.9375</td>\n",
       "      <td>53.9</td>\n",
       "      <td>47.7</td>\n",
       "      <td>14.0</td>\n",
       "      <td>...</td>\n",
       "      <td>33.2</td>\n",
       "      <td>65.9</td>\n",
       "      <td>6.9</td>\n",
       "      <td>2ND</td>\n",
       "      <td>3.0</td>\n",
       "      <td>2018</td>\n",
       "      <td>michigan</td>\n",
       "      <td>1276.0</td>\n",
       "      <td>2018.0</td>\n",
       "      <td>11.0</td>\n",
       "    </tr>\n",
       "    <tr>\n",
       "      <th>3</th>\n",
       "      <td>texas tech</td>\n",
       "      <td>B12</td>\n",
       "      <td>38</td>\n",
       "      <td>31</td>\n",
       "      <td>115.2</td>\n",
       "      <td>85.2</td>\n",
       "      <td>0.9696</td>\n",
       "      <td>53.5</td>\n",
       "      <td>43.0</td>\n",
       "      <td>17.7</td>\n",
       "      <td>...</td>\n",
       "      <td>29.7</td>\n",
       "      <td>67.5</td>\n",
       "      <td>7.0</td>\n",
       "      <td>2ND</td>\n",
       "      <td>3.0</td>\n",
       "      <td>2019</td>\n",
       "      <td>texas tech</td>\n",
       "      <td>1403.0</td>\n",
       "      <td>2019.0</td>\n",
       "      <td>10.0</td>\n",
       "    </tr>\n",
       "    <tr>\n",
       "      <th>4</th>\n",
       "      <td>gonzaga</td>\n",
       "      <td>WCC</td>\n",
       "      <td>39</td>\n",
       "      <td>37</td>\n",
       "      <td>117.8</td>\n",
       "      <td>86.3</td>\n",
       "      <td>0.9728</td>\n",
       "      <td>56.6</td>\n",
       "      <td>41.1</td>\n",
       "      <td>16.2</td>\n",
       "      <td>...</td>\n",
       "      <td>29.0</td>\n",
       "      <td>71.5</td>\n",
       "      <td>7.7</td>\n",
       "      <td>2ND</td>\n",
       "      <td>1.0</td>\n",
       "      <td>2017</td>\n",
       "      <td>gonzaga</td>\n",
       "      <td>1211.0</td>\n",
       "      <td>2017.0</td>\n",
       "      <td>4.0</td>\n",
       "    </tr>\n",
       "  </tbody>\n",
       "</table>\n",
       "<p>5 rows × 28 columns</p>\n",
       "</div>"
      ],
      "text/plain": [
       "             TEAM CONF   G   W  ADJOE  ADJDE  BARTHAG  EFG_O  EFG_D   TOR  \\\n",
       "0  north carolina  ACC  40  33  123.3   94.9   0.9531   52.6   48.1  15.4   \n",
       "1       wisconsin  B10  40  36  129.1   93.6   0.9758   54.8   47.7  12.4   \n",
       "2        michigan  B10  40  33  114.4   90.4   0.9375   53.9   47.7  14.0   \n",
       "3      texas tech  B12  38  31  115.2   85.2   0.9696   53.5   43.0  17.7   \n",
       "4         gonzaga  WCC  39  37  117.8   86.3   0.9728   56.6   41.1  16.2   \n",
       "\n",
       "   ...  3P_D  ADJ_T   WAB  POSTSEASON  SEED  YEAR  TeamNameSpelling  TeamID  \\\n",
       "0  ...  36.2   71.7   8.6         2ND   1.0  2016    north carolina  1314.0   \n",
       "1  ...  37.5   59.3  11.3         2ND   1.0  2015         wisconsin  1458.0   \n",
       "2  ...  33.2   65.9   6.9         2ND   3.0  2018          michigan  1276.0   \n",
       "3  ...  29.7   67.5   7.0         2ND   3.0  2019        texas tech  1403.0   \n",
       "4  ...  29.0   71.5   7.7         2ND   1.0  2017           gonzaga  1211.0   \n",
       "\n",
       "   Season  OverallSeed  \n",
       "0  2016.0          2.0  \n",
       "1  2015.0          4.0  \n",
       "2  2018.0         11.0  \n",
       "3  2019.0         10.0  \n",
       "4  2017.0          4.0  \n",
       "\n",
       "[5 rows x 28 columns]"
      ]
     },
     "execution_count": 157,
     "metadata": {},
     "output_type": "execute_result"
    }
   ],
   "source": [
    "data.head()"
   ]
  },
  {
   "cell_type": "markdown",
   "metadata": {},
   "source": [
    "### Calculating Tourney Wins\n",
    "\n",
    "This will be the predicted value of Point 1: Overall Winner. The round that each team has reached in March Madness in a given YEAR is represented in the POSTSEASON column. We will want to map this column to # of wins in tourney. We will also want to drop all rows with NA in POSTSEASON, these are the teams that did not qualify for March Madness and will not contribute to our analysis"
   ]
  },
  {
   "cell_type": "code",
   "execution_count": 158,
   "metadata": {},
   "outputs": [],
   "source": [
    "win_map = {'R68':0, 'R64':0, 'R32':1, 'S16':2, 'E8':3, 'F4':4, '2ND':5, 'Champions':6}\n",
    "data['MM_Wins'] = data['POSTSEASON'].map(win_map)\n",
    "data.dropna(inplace = True)"
   ]
  },
  {
   "attachments": {
    "image.png": {
     "image/png": "[encoded data removed]"
    }
   },
   "cell_type": "markdown",
   "metadata": {},
   "source": [
    "### Calculating Wins over Expected Wins\n",
    "\n",
    "This will be the predicted value of Point 2: Sleeper Teams. We first calculate a new parameter, Expected Wins, based off a team's seeding\n",
    "\n",
    "Expected wins calculated from table taken from  \n",
    "https://bracketodds.cs.illinois.edu/seedadv.html\n",
    "\n",
    "![image.png](attachment:image.png)\n",
    "\n",
    "We then calculate the Wins_over_expected by taking the difference between actual MM wins and the Expected wins. The higher the value, the more likely this team will outperform their expected tourney run"
   ]
  },
  {
   "cell_type": "code",
   "execution_count": 159,
   "metadata": {},
   "outputs": [],
   "source": [
    "expected_wins = pd.DataFrame({'Seed': range(1,17), 'Exp_Wins':[3.35,2.39,1.85,1.54,1.11,1.07,0.907,0.7,0.6,0.621,0.614,0.514,0.25,0.164,0.064,0.007]})\n",
    "data = pd.merge(data, expected_wins, left_on='SEED', right_on='Seed', how='left')\n",
    "data['Wins_over_expected'] = data['MM_Wins'] - data['Exp_Wins']"
   ]
  },
  {
   "cell_type": "markdown",
   "metadata": {},
   "source": [
    "### Data Cleaning\n",
    "\n",
    "We will want to drop columns that do not relate to Team statistics. Additionally, Win column will also be dropped because our data counts MM wins inside the W column, in which in future predictions will not already be summed in. Exp_Wins column will also need to be dropped because the analyzed value is dependent on it. All features need to be independent from one another in a linear regression model."
   ]
  },
  {
   "cell_type": "code",
   "execution_count": 160,
   "metadata": {},
   "outputs": [],
   "source": [
    "data.drop(['W','TEAM','CONF','G','POSTSEASON','SEED','YEAR','TeamNameSpelling','TeamID','Season','Exp_Wins'], axis=1, inplace=True)"
   ]
  },
  {
   "cell_type": "code",
   "execution_count": 161,
   "metadata": {},
   "outputs": [
    {
     "data": {
      "text/plain": [
       "ADJOE                 0.549131\n",
       "ADJDE                -0.484196\n",
       "BARTHAG               0.489840\n",
       "EFG_O                 0.257036\n",
       "EFG_D                -0.286426\n",
       "TOR                  -0.231724\n",
       "TORD                  0.041541\n",
       "ORB                   0.189730\n",
       "DRB                  -0.016852\n",
       "FTR                  -0.104249\n",
       "FTRD                 -0.198447\n",
       "2P_O                  0.263829\n",
       "2P_D                 -0.249419\n",
       "3P_O                  0.132472\n",
       "3P_D                 -0.172173\n",
       "ADJ_T                -0.069796\n",
       "WAB                   0.581178\n",
       "OverallSeed          -0.598616\n",
       "MM_Wins               1.000000\n",
       "Seed                 -0.605842\n",
       "Wins_over_expected    0.751646\n",
       "Name: MM_Wins, dtype: float64"
      ]
     },
     "execution_count": 161,
     "metadata": {},
     "output_type": "execute_result"
    }
   ],
   "source": [
    "data.corr()['MM_Wins']"
   ]
  },
  {
   "cell_type": "markdown",
   "metadata": {},
   "source": [
    "MAY REMOVE Here is a quick check of the correlation between the dataset"
   ]
  },
  {
   "cell_type": "code",
   "execution_count": 162,
   "metadata": {},
   "outputs": [],
   "source": [
    "data.drop(['TORD','DRB','ADJ_T'], axis=1, inplace=True)"
   ]
  },
  {
   "cell_type": "markdown",
   "metadata": {},
   "source": [
    "### Mean Normalization of Data\n",
    "We want to make sure that the units for all parameters are weighted equally in the analysis. To do so, we will need to perform mean normalization and put the normalized values in a new dataframe: data_normed"
   ]
  },
  {
   "cell_type": "code",
   "execution_count": 163,
   "metadata": {},
   "outputs": [],
   "source": [
    "data_normed = pd.DataFrame()\n",
    "for column in data.columns[:-3]:\n",
    "    data_normed[column] = (data[column] - data[column].mean()) / data[column].std()"
   ]
  },
  {
   "cell_type": "code",
   "execution_count": 164,
   "metadata": {
    "scrolled": false
   },
   "outputs": [
    {
     "data": {
      "text/html": [
       "<div>\n",
       "<style scoped>\n",
       "    .dataframe tbody tr th:only-of-type {\n",
       "        vertical-align: middle;\n",
       "    }\n",
       "\n",
       "    .dataframe tbody tr th {\n",
       "        vertical-align: top;\n",
       "    }\n",
       "\n",
       "    .dataframe thead th {\n",
       "        text-align: right;\n",
       "    }\n",
       "</style>\n",
       "<table border=\"1\" class=\"dataframe\">\n",
       "  <thead>\n",
       "    <tr style=\"text-align: right;\">\n",
       "      <th></th>\n",
       "      <th>ADJOE</th>\n",
       "      <th>ADJDE</th>\n",
       "      <th>BARTHAG</th>\n",
       "      <th>EFG_O</th>\n",
       "      <th>EFG_D</th>\n",
       "      <th>TOR</th>\n",
       "      <th>ORB</th>\n",
       "      <th>FTR</th>\n",
       "      <th>FTRD</th>\n",
       "      <th>2P_O</th>\n",
       "      <th>2P_D</th>\n",
       "      <th>3P_O</th>\n",
       "      <th>3P_D</th>\n",
       "      <th>WAB</th>\n",
       "      <th>OverallSeed</th>\n",
       "    </tr>\n",
       "  </thead>\n",
       "  <tbody>\n",
       "    <tr>\n",
       "      <th>0</th>\n",
       "      <td>1.781179</td>\n",
       "      <td>-0.395955</td>\n",
       "      <td>0.918560</td>\n",
       "      <td>0.044398</td>\n",
       "      <td>0.033549</td>\n",
       "      <td>-1.131949</td>\n",
       "      <td>2.295278</td>\n",
       "      <td>-0.754346</td>\n",
       "      <td>-0.404574</td>\n",
       "      <td>0.796426</td>\n",
       "      <td>-0.789742</td>\n",
       "      <td>-1.371595</td>\n",
       "      <td>1.364665</td>\n",
       "      <td>1.416993</td>\n",
       "      <td>-1.647916</td>\n",
       "    </tr>\n",
       "    <tr>\n",
       "      <th>1</th>\n",
       "      <td>2.682947</td>\n",
       "      <td>-0.642844</td>\n",
       "      <td>1.049437</td>\n",
       "      <td>0.859563</td>\n",
       "      <td>-0.133824</td>\n",
       "      <td>-2.866828</td>\n",
       "      <td>0.229798</td>\n",
       "      <td>0.044930</td>\n",
       "      <td>-1.798165</td>\n",
       "      <td>1.095086</td>\n",
       "      <td>-0.755901</td>\n",
       "      <td>0.147616</td>\n",
       "      <td>1.984762</td>\n",
       "      <td>1.950779</td>\n",
       "      <td>-1.546144</td>\n",
       "    </tr>\n",
       "    <tr>\n",
       "      <th>2</th>\n",
       "      <td>0.397433</td>\n",
       "      <td>-1.250571</td>\n",
       "      <td>0.828618</td>\n",
       "      <td>0.526086</td>\n",
       "      <td>-0.133824</td>\n",
       "      <td>-1.941559</td>\n",
       "      <td>-1.355338</td>\n",
       "      <td>-1.082253</td>\n",
       "      <td>-0.474254</td>\n",
       "      <td>1.061902</td>\n",
       "      <td>-0.045254</td>\n",
       "      <td>-0.372114</td>\n",
       "      <td>-0.066328</td>\n",
       "      <td>1.080906</td>\n",
       "      <td>-1.189944</td>\n",
       "    </tr>\n",
       "    <tr>\n",
       "      <th>3</th>\n",
       "      <td>0.521814</td>\n",
       "      <td>-2.238127</td>\n",
       "      <td>1.013691</td>\n",
       "      <td>0.377875</td>\n",
       "      <td>-2.100454</td>\n",
       "      <td>0.198125</td>\n",
       "      <td>-0.899011</td>\n",
       "      <td>-0.631380</td>\n",
       "      <td>0.675459</td>\n",
       "      <td>0.431398</td>\n",
       "      <td>-1.703431</td>\n",
       "      <td>0.147616</td>\n",
       "      <td>-1.735820</td>\n",
       "      <td>1.100676</td>\n",
       "      <td>-1.240830</td>\n",
       "    </tr>\n",
       "    <tr>\n",
       "      <th>4</th>\n",
       "      <td>0.926055</td>\n",
       "      <td>-2.029221</td>\n",
       "      <td>1.032141</td>\n",
       "      <td>1.526517</td>\n",
       "      <td>-2.895474</td>\n",
       "      <td>-0.669314</td>\n",
       "      <td>-0.274564</td>\n",
       "      <td>0.618768</td>\n",
       "      <td>-1.014270</td>\n",
       "      <td>1.592853</td>\n",
       "      <td>-2.346398</td>\n",
       "      <td>0.827262</td>\n",
       "      <td>-2.069718</td>\n",
       "      <td>1.239065</td>\n",
       "      <td>-1.546144</td>\n",
       "    </tr>\n",
       "    <tr>\n",
       "      <th>...</th>\n",
       "      <td>...</td>\n",
       "      <td>...</td>\n",
       "      <td>...</td>\n",
       "      <td>...</td>\n",
       "      <td>...</td>\n",
       "      <td>...</td>\n",
       "      <td>...</td>\n",
       "      <td>...</td>\n",
       "      <td>...</td>\n",
       "      <td>...</td>\n",
       "      <td>...</td>\n",
       "      <td>...</td>\n",
       "      <td>...</td>\n",
       "      <td>...</td>\n",
       "      <td>...</td>\n",
       "    </tr>\n",
       "    <tr>\n",
       "      <th>333</th>\n",
       "      <td>-0.100094</td>\n",
       "      <td>-0.433938</td>\n",
       "      <td>0.404852</td>\n",
       "      <td>-0.400238</td>\n",
       "      <td>-0.468569</td>\n",
       "      <td>1.065565</td>\n",
       "      <td>0.662108</td>\n",
       "      <td>-0.815828</td>\n",
       "      <td>-0.892331</td>\n",
       "      <td>0.331844</td>\n",
       "      <td>-0.417498</td>\n",
       "      <td>-1.291636</td>\n",
       "      <td>-0.352527</td>\n",
       "      <td>0.092415</td>\n",
       "      <td>-0.477543</td>\n",
       "    </tr>\n",
       "    <tr>\n",
       "      <th>334</th>\n",
       "      <td>0.941603</td>\n",
       "      <td>-0.073100</td>\n",
       "      <td>0.659112</td>\n",
       "      <td>-0.474344</td>\n",
       "      <td>0.786726</td>\n",
       "      <td>0.313784</td>\n",
       "      <td>1.334590</td>\n",
       "      <td>0.229378</td>\n",
       "      <td>0.065763</td>\n",
       "      <td>0.464582</td>\n",
       "      <td>0.834595</td>\n",
       "      <td>-1.691429</td>\n",
       "      <td>0.172171</td>\n",
       "      <td>1.159986</td>\n",
       "      <td>-1.189944</td>\n",
       "    </tr>\n",
       "    <tr>\n",
       "      <th>335</th>\n",
       "      <td>1.703441</td>\n",
       "      <td>-0.338981</td>\n",
       "      <td>0.893768</td>\n",
       "      <td>1.044828</td>\n",
       "      <td>0.033549</td>\n",
       "      <td>-0.900631</td>\n",
       "      <td>0.109712</td>\n",
       "      <td>-0.549403</td>\n",
       "      <td>0.379321</td>\n",
       "      <td>1.294193</td>\n",
       "      <td>-0.755901</td>\n",
       "      <td>0.227574</td>\n",
       "      <td>0.983067</td>\n",
       "      <td>1.674001</td>\n",
       "      <td>-1.495258</td>\n",
       "    </tr>\n",
       "    <tr>\n",
       "      <th>336</th>\n",
       "      <td>0.863864</td>\n",
       "      <td>-0.471921</td>\n",
       "      <td>0.749630</td>\n",
       "      <td>1.007775</td>\n",
       "      <td>-1.347276</td>\n",
       "      <td>-0.148851</td>\n",
       "      <td>0.229798</td>\n",
       "      <td>-0.323967</td>\n",
       "      <td>-0.805232</td>\n",
       "      <td>0.929164</td>\n",
       "      <td>-0.857422</td>\n",
       "      <td>0.667345</td>\n",
       "      <td>-1.449621</td>\n",
       "      <td>0.131955</td>\n",
       "      <td>0.489286</td>\n",
       "    </tr>\n",
       "    <tr>\n",
       "      <th>337</th>\n",
       "      <td>0.832769</td>\n",
       "      <td>-0.395955</td>\n",
       "      <td>0.723109</td>\n",
       "      <td>1.674729</td>\n",
       "      <td>-0.384883</td>\n",
       "      <td>-0.727144</td>\n",
       "      <td>0.445953</td>\n",
       "      <td>-0.795334</td>\n",
       "      <td>-0.631033</td>\n",
       "      <td>2.223357</td>\n",
       "      <td>-0.958944</td>\n",
       "      <td>0.267553</td>\n",
       "      <td>0.792268</td>\n",
       "      <td>0.685510</td>\n",
       "      <td>-0.986401</td>\n",
       "    </tr>\n",
       "  </tbody>\n",
       "</table>\n",
       "<p>338 rows × 15 columns</p>\n",
       "</div>"
      ],
      "text/plain": [
       "        ADJOE     ADJDE   BARTHAG     EFG_O     EFG_D       TOR       ORB  \\\n",
       "0    1.781179 -0.395955  0.918560  0.044398  0.033549 -1.131949  2.295278   \n",
       "1    2.682947 -0.642844  1.049437  0.859563 -0.133824 -2.866828  0.229798   \n",
       "2    0.397433 -1.250571  0.828618  0.526086 -0.133824 -1.941559 -1.355338   \n",
       "3    0.521814 -2.238127  1.013691  0.377875 -2.100454  0.198125 -0.899011   \n",
       "4    0.926055 -2.029221  1.032141  1.526517 -2.895474 -0.669314 -0.274564   \n",
       "..        ...       ...       ...       ...       ...       ...       ...   \n",
       "333 -0.100094 -0.433938  0.404852 -0.400238 -0.468569  1.065565  0.662108   \n",
       "334  0.941603 -0.073100  0.659112 -0.474344  0.786726  0.313784  1.334590   \n",
       "335  1.703441 -0.338981  0.893768  1.044828  0.033549 -0.900631  0.109712   \n",
       "336  0.863864 -0.471921  0.749630  1.007775 -1.347276 -0.148851  0.229798   \n",
       "337  0.832769 -0.395955  0.723109  1.674729 -0.384883 -0.727144  0.445953   \n",
       "\n",
       "          FTR      FTRD      2P_O      2P_D      3P_O      3P_D       WAB  \\\n",
       "0   -0.754346 -0.404574  0.796426 -0.789742 -1.371595  1.364665  1.416993   \n",
       "1    0.044930 -1.798165  1.095086 -0.755901  0.147616  1.984762  1.950779   \n",
       "2   -1.082253 -0.474254  1.061902 -0.045254 -0.372114 -0.066328  1.080906   \n",
       "3   -0.631380  0.675459  0.431398 -1.703431  0.147616 -1.735820  1.100676   \n",
       "4    0.618768 -1.014270  1.592853 -2.346398  0.827262 -2.069718  1.239065   \n",
       "..        ...       ...       ...       ...       ...       ...       ...   \n",
       "333 -0.815828 -0.892331  0.331844 -0.417498 -1.291636 -0.352527  0.092415   \n",
       "334  0.229378  0.065763  0.464582  0.834595 -1.691429  0.172171  1.159986   \n",
       "335 -0.549403  0.379321  1.294193 -0.755901  0.227574  0.983067  1.674001   \n",
       "336 -0.323967 -0.805232  0.929164 -0.857422  0.667345 -1.449621  0.131955   \n",
       "337 -0.795334 -0.631033  2.223357 -0.958944  0.267553  0.792268  0.685510   \n",
       "\n",
       "     OverallSeed  \n",
       "0      -1.647916  \n",
       "1      -1.546144  \n",
       "2      -1.189944  \n",
       "3      -1.240830  \n",
       "4      -1.546144  \n",
       "..           ...  \n",
       "333    -0.477543  \n",
       "334    -1.189944  \n",
       "335    -1.495258  \n",
       "336     0.489286  \n",
       "337    -0.986401  \n",
       "\n",
       "[338 rows x 15 columns]"
      ]
     },
     "execution_count": 164,
     "metadata": {},
     "output_type": "execute_result"
    }
   ],
   "source": [
    "data_normed"
   ]
  },
  {
   "cell_type": "markdown",
   "metadata": {},
   "source": [
    "## Model #1, predicting the overall winner\n",
    "\n",
    "### Baseline Trial\n",
    "\n",
    "The easiest way someone can create and predict a bracket is to just have everyone from the higher seed advance. Are we able to beat this with our model?  \n",
    "\n",
    "X - OverallSeed\n",
    "\n",
    "#### Result\n",
    "We use root mean squared error (RMSE) to evaluate our model  \n",
    "RMSE - 0.990"
   ]
  },
  {
   "cell_type": "code",
   "execution_count": 165,
   "metadata": {},
   "outputs": [],
   "source": [
    "X = data_normed\n",
    "y = data['MM_Wins']\n",
    "X_train, X_test, y_train, y_test = train_test_split(X, y, test_size = 0.2, random_state = 1)\n",
    "model = LinearRegression()\n",
    "model.fit(np.array(X_train['OverallSeed']).reshape(-1,1),y_train)\n",
    "Y_pred = model.predict(np.array(X_test['OverallSeed']).reshape(-1,1))"
   ]
  },
  {
   "cell_type": "code",
   "execution_count": 166,
   "metadata": {},
   "outputs": [
    {
     "data": {
      "text/plain": [
       "0.9901336336463362"
      ]
     },
     "execution_count": 166,
     "metadata": {},
     "output_type": "execute_result"
    }
   ],
   "source": [
    "mean_squared_error(Y_pred,y_test)**(1/2)"
   ]
  },
  {
   "cell_type": "code",
   "execution_count": 167,
   "metadata": {},
   "outputs": [
    {
     "data": {
      "text/plain": [
       "<AxesSubplot:ylabel='MM_Wins'>"
      ]
     },
     "execution_count": 167,
     "metadata": {},
     "output_type": "execute_result"
    },
    {
     "data": {
      "image/png": "[encoded data removed]",
      "text/plain": [
       "<Figure size 432x288 with 1 Axes>"
      ]
     },
     "metadata": {
      "needs_background": "light"
     },
     "output_type": "display_data"
    }
   ],
   "source": [
    "sns.scatterplot(x = Y_pred, y = y_test)"
   ]
  },
  {
   "cell_type": "markdown",
   "metadata": {},
   "source": [
    "### Trial 1\n",
    "\n",
    "To start off, I am aiming to perform a simple Linear Regession using all the factors in the our dataframe\n",
    "\n",
    "X - all columns \n",
    "#### Result\n",
    "RMSE - 0.800  \n",
    "\n",
    "Our RMSE is smaller than our Baseline trial, suggesting that looking at all the parameters as a whole is more accurate at predict March Madness success than just the seed itself"
   ]
  },
  {
   "cell_type": "code",
   "execution_count": 168,
   "metadata": {},
   "outputs": [],
   "source": [
    "model.fit(X_train,y_train)\n",
    "Y_pred = model.predict(X_test)"
   ]
  },
  {
   "cell_type": "code",
   "execution_count": 169,
   "metadata": {},
   "outputs": [
    {
     "data": {
      "text/plain": [
       "0.8002259772272506"
      ]
     },
     "execution_count": 169,
     "metadata": {},
     "output_type": "execute_result"
    }
   ],
   "source": [
    "mean_squared_error(Y_pred,y_test)**(1/2)"
   ]
  },
  {
   "cell_type": "code",
   "execution_count": 170,
   "metadata": {},
   "outputs": [
    {
     "data": {
      "text/plain": [
       "<AxesSubplot:ylabel='MM_Wins'>"
      ]
     },
     "execution_count": 170,
     "metadata": {},
     "output_type": "execute_result"
    },
    {
     "data": {
      "image/png": "[encoded data removed]",
      "text/plain": [
       "<Figure size 432x288 with 1 Axes>"
      ]
     },
     "metadata": {
      "needs_background": "light"
     },
     "output_type": "display_data"
    }
   ],
   "source": [
    "sns.scatterplot(x = Y_pred, y = y_test)"
   ]
  },
  {
   "cell_type": "markdown",
   "metadata": {},
   "source": [
    "### Trial 2\n",
    "\n",
    "I believe I am using too many parameters may be overfitting the dataset. In this trial, we will limit to the Top 5 parameters from the earlier correlation observed\n",
    "\n",
    "X - ADJOE, ADJDE, BARTHAG, WAB, OverallSeed\n",
    "#### Result\n",
    "RMSE - 0.787  \n",
    "\n",
    "Reducing the parameters that we are analyzing with makes the RMSE more accurate, however this does not mean we are at the model's optimal state yet"
   ]
  },
  {
   "cell_type": "code",
   "execution_count": 171,
   "metadata": {},
   "outputs": [],
   "source": [
    "columns_t2 = ['ADJOE','ADJDE','BARTHAG','WAB']\n",
    "model.fit(X_train[columns_t2],y_train)\n",
    "Y_pred = model.predict(X_test[columns_t2])"
   ]
  },
  {
   "cell_type": "code",
   "execution_count": 172,
   "metadata": {},
   "outputs": [
    {
     "data": {
      "text/plain": [
       "0.7785023296595734"
      ]
     },
     "execution_count": 172,
     "metadata": {},
     "output_type": "execute_result"
    }
   ],
   "source": [
    "mean_squared_error(Y_pred,y_test)**(1/2)"
   ]
  },
  {
   "cell_type": "code",
   "execution_count": 173,
   "metadata": {},
   "outputs": [
    {
     "data": {
      "text/plain": [
       "<AxesSubplot:ylabel='MM_Wins'>"
      ]
     },
     "execution_count": 173,
     "metadata": {},
     "output_type": "execute_result"
    },
    {
     "data": {
      "image/png": "[encoded data removed]",
      "text/plain": [
       "<Figure size 432x288 with 1 Axes>"
      ]
     },
     "metadata": {
      "needs_background": "light"
     },
     "output_type": "display_data"
    }
   ],
   "source": [
    "sns.scatterplot(x = Y_pred, y = y_test)"
   ]
  },
  {
   "cell_type": "markdown",
   "metadata": {},
   "source": [
    "### Model Validation\n",
    "\n"
   ]
  },
  {
   "cell_type": "code",
   "execution_count": 174,
   "metadata": {},
   "outputs": [
    {
     "data": {
      "text/plain": [
       "<matplotlib.legend.Legend at 0x199b10ea430>"
      ]
     },
     "execution_count": 174,
     "metadata": {},
     "output_type": "execute_result"
    },
    {
     "data": {
      "image/png": "[encoded data removed]",
      "text/plain": [
       "<Figure size 432x288 with 1 Axes>"
      ]
     },
     "metadata": {
      "needs_background": "light"
     },
     "output_type": "display_data"
    }
   ],
   "source": [
    "train_sizes, train_scores, test_scores = learning_curve(model, X_train[columns_t2],y_train)\n",
    "\n",
    "train_scores_mean = np.mean(train_scores, axis=1)\n",
    "test_scores_mean = np.mean(test_scores, axis=1)\n",
    "\n",
    "sns.lineplot(x=train_sizes, y=train_scores_mean, label='train scores')\n",
    "sns.lineplot(x=train_sizes, y=test_scores_mean, label='test scores')\n",
    "plt.legend()"
   ]
  },
  {
   "cell_type": "markdown",
   "metadata": {},
   "source": [
    "Learning Curve shows model that may have HIGH VARIANCE, which means our model may be overfitting. Overfitting is essentially when you algorithm is too tuned to your training data and does not apply to new data very well. The recommended paths forward for a learning curve with this pattern is:  \n",
    "\n",
    "- Getting more training examples\n",
    "- Trying smaller sets of features\n",
    "- Increase regulization in linear regression\n",
    "- Enabling cross validation in the model\n",
    "\n",
    "Firstly, getting more training examples is difficult since this dataset is generated externally. Trying a smaller set of features may help, but we have already decreased the number of features earlier down to five. Currently, we are not performing any regularization on our model. The best path forward seems to be to add regularization through enabling cross validation and attempt to find the optimal amount of regularization. To do this, we first split the training set further into a training set and a cross validation set"
   ]
  },
  {
   "cell_type": "code",
   "execution_count": 175,
   "metadata": {},
   "outputs": [],
   "source": [
    "X_train, X_valid, y_train, y_valid = train_test_split(X_train, y_train, test_size = 0.2, random_state = 1)"
   ]
  },
  {
   "cell_type": "code",
   "execution_count": 176,
   "metadata": {},
   "outputs": [],
   "source": [
    "alphas = [0.01, 0.02, 0.04, 0.08, 0.16, 0.32, 0.64, 1.28, 2.56]\n",
    "train_rmse, valid_rmse = [], []\n",
    "\n",
    "for alpha in alphas:\n",
    "    reg_model = Lasso(alpha = alpha)\n",
    "    reg_model.fit(X_train[columns_t2], y_train)\n",
    "    train_pred = reg_model.predict(X_train[columns_t2])\n",
    "    valid_pred = reg_model.predict(X_valid[columns_t2])\n",
    "    train_rmse.append(mean_squared_error(y_train, train_pred)**(1/2))\n",
    "    valid_rmse.append(mean_squared_error(y_valid, valid_pred)**(1/2))"
   ]
  },
  {
   "cell_type": "code",
   "execution_count": 177,
   "metadata": {},
   "outputs": [
    {
     "data": {
      "text/plain": [
       "<matplotlib.legend.Legend at 0x199b11e7b50>"
      ]
     },
     "execution_count": 177,
     "metadata": {},
     "output_type": "execute_result"
    },
    {
     "data": {
      "image/png": "[encoded data removed]",
      "text/plain": [
       "<Figure size 432x288 with 1 Axes>"
      ]
     },
     "metadata": {
      "needs_background": "light"
     },
     "output_type": "display_data"
    }
   ],
   "source": [
    "sns.lineplot(x = alphas, y = train_rmse, label='train rmse')\n",
    "sns.lineplot(x = alphas, y = valid_rmse, label='valid rmse')\n",
    "plt.legend()"
   ]
  },
  {
   "cell_type": "markdown",
   "metadata": {},
   "source": [
    "Initially, it was seen that the model was Overfitting. However, it is shown here that adding regularization to the model actually hurts the model and increases the RMSE. Therefore, I am content with sticking with the original model without regularization."
   ]
  },
  {
   "cell_type": "markdown",
   "metadata": {},
   "source": [
    "## Model #2, predicting overperformers\n",
    "\n",
    "The second model will attempt to predict teams that will have a good chance to outperform their seed in the tournament, creating good opportunities for the user to gain additional points in the bracket challenge by selecting these teams to go farther than others\n",
    "\n",
    "To start, we'll look at the correlation of variation parameters to wins over expected"
   ]
  },
  {
   "cell_type": "code",
   "execution_count": 178,
   "metadata": {},
   "outputs": [
    {
     "data": {
      "text/plain": [
       "ADJOE                 0.086239\n",
       "ADJDE                -0.109832\n",
       "BARTHAG               0.059041\n",
       "EFG_O                 0.062452\n",
       "EFG_D                -0.057102\n",
       "TOR                  -0.049616\n",
       "ORB                  -0.003153\n",
       "FTR                  -0.077534\n",
       "FTRD                 -0.027766\n",
       "2P_O                  0.093800\n",
       "2P_D                 -0.024055\n",
       "3P_O                 -0.021967\n",
       "3P_D                 -0.064487\n",
       "WAB                   0.024261\n",
       "OverallSeed          -0.006196\n",
       "MM_Wins               0.751646\n",
       "Seed                 -0.007179\n",
       "Wins_over_expected    1.000000\n",
       "Name: Wins_over_expected, dtype: float64"
      ]
     },
     "execution_count": 178,
     "metadata": {},
     "output_type": "execute_result"
    }
   ],
   "source": [
    "data.corr()['Wins_over_expected']"
   ]
  },
  {
   "cell_type": "markdown",
   "metadata": {},
   "source": [
    "At first glance, the correlation between various parameters and wins over expected is a lot weaker than it was when correlating to MM_Wins. This is expected, as there is more volatility to this parameter.  \n",
    "\n",
    "### Trial 1\n",
    "\n",
    "We'll first start with all the parameters, like we did last time  \n",
    "\n",
    "#### Result\n",
    "RMSE - 0.857"
   ]
  },
  {
   "cell_type": "code",
   "execution_count": 179,
   "metadata": {},
   "outputs": [],
   "source": [
    "X = data_normed\n",
    "y = data['Wins_over_expected']\n",
    "X_train, X_test, y_train, y_test = train_test_split(X, y, test_size = 0.2, random_state = 3)\n",
    "model = LinearRegression()\n",
    "model.fit(np.array(X_train['OverallSeed']).reshape(-1,1),y_train)\n",
    "Y_pred = model.predict(np.array(X_test['OverallSeed']).reshape(-1,1))"
   ]
  },
  {
   "cell_type": "code",
   "execution_count": 180,
   "metadata": {},
   "outputs": [
    {
     "data": {
      "text/plain": [
       "0.8573740097820703"
      ]
     },
     "execution_count": 180,
     "metadata": {},
     "output_type": "execute_result"
    }
   ],
   "source": [
    "mean_squared_error(Y_pred,y_test)**(1/2)"
   ]
  },
  {
   "cell_type": "code",
   "execution_count": 181,
   "metadata": {},
   "outputs": [
    {
     "data": {
      "text/plain": [
       "<AxesSubplot:ylabel='Wins_over_expected'>"
      ]
     },
     "execution_count": 181,
     "metadata": {},
     "output_type": "execute_result"
    },
    {
     "data": {
      "image/png": "[encoded data removed]",
      "text/plain": [
       "<Figure size 432x288 with 1 Axes>"
      ]
     },
     "metadata": {
      "needs_background": "light"
     },
     "output_type": "display_data"
    }
   ],
   "source": [
    "sns.scatterplot(x = Y_pred, y = y_test)"
   ]
  },
  {
   "cell_type": "code",
   "execution_count": 183,
   "metadata": {},
   "outputs": [],
   "source": [
    "columns_t2 = ['ADJOE','ADJDE','2P_O','FTR','3P_D']\n",
    "model.fit(X_train[columns_t2],y_train)\n",
    "Y_pred = model.predict(X_test[columns_t2])"
   ]
  },
  {
   "cell_type": "code",
   "execution_count": 184,
   "metadata": {},
   "outputs": [
    {
     "data": {
      "text/plain": [
       "0.9026956523692887"
      ]
     },
     "execution_count": 184,
     "metadata": {},
     "output_type": "execute_result"
    }
   ],
   "source": [
    "mean_squared_error(Y_pred,y_test)**(1/2)"
   ]
  },
  {
   "cell_type": "code",
   "execution_count": 185,
   "metadata": {},
   "outputs": [
    {
     "data": {
      "text/plain": [
       "<AxesSubplot:ylabel='Wins_over_expected'>"
      ]
     },
     "execution_count": 185,
     "metadata": {},
     "output_type": "execute_result"
    },
    {
     "data": {
      "image/png": "[encoded data removed]",
      "text/plain": [
       "<Figure size 432x288 with 1 Axes>"
      ]
     },
     "metadata": {
      "needs_background": "light"
     },
     "output_type": "display_data"
    }
   ],
   "source": [
    "sns.scatterplot(x = Y_pred, y = y_test)"
   ]
  },
  {
   "cell_type": "markdown",
   "metadata": {},
   "source": [
    "### Model Validation\n",
    "\n",
    "The scores outputted by the training and test set are very low, and there is little correlation to be found with our current dataset to predict wins over expected. It would be difficult to improve the model with the current dataset that we are using. In the next section, I outline potential paths to adding data that can improve the robustness of this model"
   ]
  },
  {
   "cell_type": "code",
   "execution_count": 186,
   "metadata": {},
   "outputs": [
    {
     "data": {
      "text/plain": [
       "<matplotlib.legend.Legend at 0x199b1253fd0>"
      ]
     },
     "execution_count": 186,
     "metadata": {},
     "output_type": "execute_result"
    },
    {
     "data": {
      "image/png": "[encoded data removed]",
      "text/plain": [
       "<Figure size 432x288 with 1 Axes>"
      ]
     },
     "metadata": {
      "needs_background": "light"
     },
     "output_type": "display_data"
    }
   ],
   "source": [
    "train_sizes, train_scores, test_scores = learning_curve(model, X_train[columns_t2],y_train)\n",
    "\n",
    "train_scores_mean = np.mean(train_scores, axis=1)\n",
    "test_scores_mean = np.mean(test_scores, axis=1)\n",
    "\n",
    "sns.lineplot(x=train_sizes, y=train_scores_mean, label='train scores')\n",
    "sns.lineplot(x=train_sizes, y=test_scores_mean, label='test scores')\n",
    "plt.legend()"
   ]
  },
  {
   "cell_type": "markdown",
   "metadata": {},
   "source": [
    "### Potential Future Improvements to Model\n",
    "\n",
    "Overall, the analysis done in this project is still at a basic level. March madness has a lot of unpredictability and factors that are not captured in the initial dataset that we used. To really hone in and improve the model, there are a few ideas on additional paths to take:\n",
    "\n",
    "1. Additional Data  \n",
    "To improve the model, we can gather additional miscellaneous information into our dataset. From my history of reading blogs, additional characteristics of teams that have outperformed expectations in the tournament are:\n",
    "- Coach's historical record in March Madness\n",
    "- Seniority of starting lineup (more juniors and seniors)\n",
    "- Experienced point guard\n",
    "- Game locations\n",
    "\n",
    "2. Using Pre-Tournament Data  \n",
    "Data used is calculated post-tournament. Therefore, the games that teams play and win during March Madness are already added into the dataset. This improves metrics for the winning teams and falsely helps the model in predicting March Madness wins. Since a model like this is intended to be used pre-tournament, it would be more accurate to use data for teams without tournament games included.  \n",
    "  \n",
    "  \n",
    "3. Relating Results to Prediction Percentage  \n",
    "If you compete in a Bracket Challenge, picking the statistically likely winner in every game does not maximize your chance of winning in first place. For example, in 2019 Duke was the overwhelming people's choice favorite to win the championship with about 38% of people picking Duke to win it all on ESPN. Models also thought Duke was the favorite as well, giving them the slight edge over Virginia, which only 8% of people picked to win it all. However, even if Duke wins, you still need to compete with the large number of other people who also picked Duke in other games. Picking a team like Virginia which has a good chance of winning, but is a less popular pick, allows you to compete with less people on other games if in fact they do win. Maximizing your chance of winning a bracket is dependant on the brackets you are competing against.  \n",
    "  \n",
    "  \n",
    "4. Opponent Analysis  \n",
    "Some teams match up better against other teams and their performance is influenced by which opponents they will face in the tournament. Teams can get weaker opponents if their opponent is overseeded and therefore have a higher chance of winning. This will not matter if the team is expected to perform well or not. Additionally, there are more specific matchup related details about how teams play (f.e. zone or man-to-man defense) that I am not knowledgeable enough to delve into further"
   ]
  }
 ],
 "metadata": {
  "kernelspec": {
   "display_name": "Python 3",
   "language": "python",
   "name": "python3"
  },
  "language_info": {
   "codemirror_mode": {
    "name": "ipython",
    "version": 3
   },
   "file_extension": ".py",
   "mimetype": "text/x-python",
   "name": "python",
   "nbconvert_exporter": "python",
   "pygments_lexer": "ipython3",
   "version": "3.8.5"
  }
 },
 "nbformat": 4,
 "nbformat_minor": 4
}
